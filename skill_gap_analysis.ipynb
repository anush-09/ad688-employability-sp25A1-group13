{
  "cells": [
    {
      "cell_type": "raw",
      "metadata": {},
      "source": [
        "---\n",
        "title: \"Skill Gap Analysis\"\n",
        "subtitle: \"Group 13 Skill Assessments\"\n",
        "author:\n",
        "  - name: Anu Sharma, Cindy Guzman, Gavin Boss\n",
        "    affiliations:\n",
        "      - id: bu\n",
        "        name: Boston University\n",
        "        city: Boston\n",
        "        state: MA\n",
        "bibliography: references.bib\n",
        "csl: csl/econometrica.csl\n",
        "format: \n",
        "  html:\n",
        "    toc: true\n",
        "    number-sections: true\n",
        "    df-print: paged\n",
        "---"
      ],
      "id": "b3b97345"
    },
    {
      "cell_type": "markdown",
      "metadata": {},
      "source": [
        "# Team Dataframe\n",
        "\n",
        "Our team conducted  an overview of our current technical skills when it comes to Business Analytics and our skill levels. The goal was to understand where the group's strengths and weaknesses were, and understand how the data that was collected could relate to the data that was observed in the research conducted. This was used to identify strengths and weaknesses for the group while also identifying potential gaps within the group.\n"
      ],
      "id": "e5862af8"
    },
    {
      "cell_type": "code",
      "metadata": {},
      "source": [
        "import pandas as pd\n",
        "\n",
        "# Extended skills data\n",
        "skills_data = {\n",
        "    \"Name\": [\"Anu\", \"Cindy\", \"Gavin\"],\n",
        "    \"Python\": [5, 3, 4],\n",
        "    \"SQL\": [4, 2, 5],\n",
        "    \"Machine Learning\": [3, 1, 4],\n",
        "    \"Cloud Computing\": [2, 2, 3],\n",
        "    \"Power BI\": [3, 2, 4],\n",
        "    \"AWS\": [3,1,4]\n",
        "}\n",
        "\n",
        "# Create DataFrame and set index\n",
        "df_skills = pd.DataFrame(skills_data).set_index(\"Name\")\n",
        "\n",
        "# Ensure all columns are numeric\n",
        "df_skills = df_skills.apply(pd.to_numeric)\n",
        "\n",
        "# Add average skill score across all tools\n",
        "df_skills[\"Average_Skill\"] = df_skills.mean(axis=1)\n",
        "\n",
        "# Style with borders and centered text\n",
        "df_styled = df_skills.style.set_table_styles([\n",
        "    {'selector': 'th, td', 'props': [('border', '1px solid black'),\n",
        "                                     ('text-align', 'center')]}\n",
        "])\n",
        "\n",
        "df_styled"
      ],
      "id": "dbe368ec",
      "execution_count": null,
      "outputs": []
    },
    {
      "cell_type": "code",
      "metadata": {},
      "source": [
        "import seaborn as sns\n",
        "import matplotlib.pyplot as plt\n",
        "\n",
        "plt.figure(figsize=(14, 12))\n",
        "sns.heatmap(df_skills, annot=True, cmap=\"coolwarm\", linewidths=0.5)\n",
        "plt.title(\"Team Skill Levels Heatmap\")\n",
        "plt.show()"
      ],
      "id": "d01c3e8d",
      "execution_count": null,
      "outputs": []
    }
  ],
  "metadata": {
    "kernelspec": {
      "name": "python3",
      "language": "python",
      "display_name": "Python 3 (ipykernel)"
    }
  },
  "nbformat": 4,
  "nbformat_minor": 5
}
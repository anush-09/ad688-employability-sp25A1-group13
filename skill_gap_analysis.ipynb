{
  "cells": [
    {
      "cell_type": "raw",
      "metadata": {},
      "source": [
        "---\n",
        "title: \"Skill Gap Analysis\"\n",
        "subtitle: \"Group 13 Skill Assessments\"\n",
        "author:\n",
        "  - name: Anu Sharma, Cindy Guzman, Gavin Boss\n",
        "    affiliations:\n",
        "      - id: bu\n",
        "        name: Boston University\n",
        "        city: Boston\n",
        "        state: MA\n",
        "bibliography: references.bib\n",
        "csl: csl/econometrica.csl\n",
        "format: \n",
        "  html:\n",
        "    toc: true\n",
        "    number-sections: true\n",
        "    df-print: paged\n",
        "---"
      ],
      "id": "a1f0fb08"
    },
    {
      "cell_type": "markdown",
      "metadata": {},
      "source": [
        "# Team Dataframe\n",
        "\n",
        "Our team conducted  an overview of our current technical skills when it comes to Business Analytics and our skill levels. The goal was to understand where the group's strengths and weaknesses were, and understand how the data that was collected could relate to the data that was observed in the research conducted. This was used to identify strengths and weaknesses for the group while also identifying potential gaps within the group.\n"
      ],
      "id": "4220fb96"
    },
    {
      "cell_type": "code",
      "metadata": {},
      "source": [
        "import pandas as pd\n",
        "\n",
        "# Extended skills data\n",
        "skills_data = {\n",
        "    \"Name\": [\"Anu\", \"Cindy\", \"Gavin\"],\n",
        "    \"Data Analysis\": [3, 1, 4],\n",
        "    \"Python\": [5, 3, 4],\n",
        "    \"SQL\": [4, 2, 5],\n",
        "    \"Machine Learning\": [3, 1, 4],\n",
        "    \"Cloud Computing\": [2, 2, 3],\n",
        "    \"Power BI\": [3, 2, 4],\n",
        "    \n",
        "}\n",
        "\n",
        "# Create DataFrame and set index\n",
        "df_skills = pd.DataFrame(skills_data).set_index(\"Name\")\n",
        "\n",
        "# Ensure all columns are numeric\n",
        "df_skills = df_skills.apply(pd.to_numeric)\n",
        "\n",
        "# Add average skill score across all tools\n",
        "df_skills[\"Average_Skill\"] = df_skills.mean(axis=1)\n",
        "\n",
        "# Style with borders and centered text\n",
        "df_styled = df_skills.style.set_table_styles([\n",
        "    {'selector': 'th, td', 'props': [('border', '1px solid black'),\n",
        "                                     ('text-align', 'center')]}\n",
        "])\n",
        "\n",
        "df_styled"
      ],
      "id": "15a8ee7f",
      "execution_count": null,
      "outputs": []
    },
    {
      "cell_type": "code",
      "metadata": {},
      "source": [
        "import seaborn as sns\n",
        "import matplotlib.pyplot as plt\n",
        "\n",
        "plt.figure(figsize=(10, 10))\n",
        "sns.heatmap(df_skills, annot=True, cmap=\"coolwarm\", linewidths=0.5)\n",
        "plt.title(\"Team Skill Levels Heatmap\")\n",
        "plt.xlabel(\"Technical Skills\", fontsize=14)\n",
        "plt.ylabel(\"Team Members\", fontsize=14)\n",
        "plt.xticks(rotation=30, fontsize=14)  \n",
        "plt.yticks(fontsize=14)\n",
        "annot_kws={\"fontsize\":12}\n",
        "plt.show()"
      ],
      "id": "d1417a15",
      "execution_count": null,
      "outputs": []
    },
    {
      "cell_type": "markdown",
      "metadata": {},
      "source": [
        "# What the Heatmap Shows\n",
        "\n",
        "When looking at the heatmap it shows that our team still feels relatively new to these technical skills and highlighted in blue are the most notable areas for growth. One person in our group is a Business Analyst while the other two do not use these tools on a daily basis and due to this lack of exposure likely contribute to a lack of technical skill observed in the heatmap. Increased exposure and experience outside of an educational setting could contribute to increased technical skills within the group.\n",
        "\n",
        "Data Analysis represents the strongest skill that our group presents, while this isn't a program it was noted as one of the top skills that impacted salary, alongside experience and being remote. Regardless of the type of data analysis experience, having the ability to analyze data is more vital according to the data represented in the ML Model section of this website. Having a core analytical ability puts our group ahead of most canidates that have vast python experience depending on the types of jobs that they are looking to apply for, and adding the other analytical tools such as Python and PowerBI only empower our group further in the ability to find higher paying jobs.\n",
        "\n",
        "Python is one of the strongest skills across the team and this is likely in large part due to the exposure that has occured during this course, while no one in the group are experts in Python our technical skill levels indicate that we have a foundational understanding of the programming language and are able to navigate the complexities and manipulate data in order to meet organizational goals and objectives required for data analysis, automation, and model development that was observed during this course. Cloud computing was one of the areas where we struggled as a group and this was in large part due to a lack of exposure and could likely increase in environments where this was utilized similar to our educational environment like this class.\n",
        "\n",
        "# Addressing Skill Gaps\n",
        "\n",
        "# Comparing Top Job Market Skills\n"
      ],
      "id": "8f7eaac5"
    }
  ],
  "metadata": {
    "kernelspec": {
      "name": "python3",
      "language": "python",
      "display_name": "Python 3 (ipykernel)"
    }
  },
  "nbformat": 4,
  "nbformat_minor": 5
}
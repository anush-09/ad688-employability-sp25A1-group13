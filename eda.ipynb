{
  "cells": [
    {
      "cell_type": "raw",
      "metadata": {},
      "source": [
        "---\n",
        "title: \"Exploratory Data Analysis (EDA)\"\n",
        "subtitle: \"Visual and Statistical Insights from Job Market Data\"\n",
        "author:\n",
        "  - name: \"Anu Sharma, Cindy Guzman, Gavin Boss\"\n",
        "    affiliations:\n",
        "      - id: bu\n",
        "        name: Boston University\n",
        "        city: Boston\n",
        "        state: MA\n",
        "date: \"2025-10-09\"\n",
        "format:\n",
        "  html:\n",
        "    theme: lux\n",
        "    toc: true\n",
        "    toc-depth: 2\n",
        "    number-sections: true\n",
        "    code-fold: true\n",
        "    smooth-scroll: true\n",
        "    code-overflow: wrap\n",
        "execute:\n",
        "  echo: true\n",
        "  eval: true\n",
        "  warning: false\n",
        "  message: false\n",
        "---"
      ],
      "id": "c314220d"
    },
    {
      "cell_type": "markdown",
      "metadata": {},
      "source": [
        "# Overview\n",
        "\n",
        "In this section, we examine job postings across Business Analytics, Data Science, and Machine Learning roles to identify key patterns before modeling. We explore salary, experience, remote work trends, and skill demand to guide the regression and classification stages.\n",
        "\n",
        "We focused on:\n",
        "- Job distribution across industries and roles  \n",
        "- Salary variation by experience and remote type  \n",
        "- Skill demand frequency and specialization  \n",
        "- Emerging data science and analytics trends"
      ],
      "id": "cdf15879"
    },
    {
      "cell_type": "markdown",
      "metadata": {},
      "source": [
        "---\n",
        "\n",
        "# 1. Top Job Titles and Employers\n"
      ],
      "id": "96a630b2"
    },
    {
      "cell_type": "code",
      "metadata": {},
      "source": [
        "import pandas as pd, plotly.express as px\n",
        "\n",
        "df = pd.read_csv(\"data/lightcast_cleaned.csv\")\n",
        "\n",
        "fig = px.histogram(df, x=\"Average_Salary\", nbins=40,\n",
        "                   color_discrete_sequence=[\"#187145\"])\n",
        "fig.update_layout(\n",
        "    title=\"Distribution of Average Salaries\",\n",
        "    xaxis_title=\"Average Salary ($)\",\n",
        "    yaxis_title=\"Number of Job Postings\",\n",
        "    template=\"plotly_white\"\n",
        ")\n",
        "fig.show()"
      ],
      "id": "793f4fa3",
      "execution_count": null,
      "outputs": []
    },
    {
      "cell_type": "markdown",
      "metadata": {},
      "source": [
        "### Salary Distribution and Outliers\n",
        "Salaries are right-skewed — most roles pay under $150K, but select senior and ML-focused positions exceed $200K, highlighting outlier opportunities for experienced professionals.\n"
      ],
      "id": "1f9ec811"
    },
    {
      "cell_type": "code",
      "metadata": {},
      "source": [
        "fig = px.scatter(\n",
        "    df, \n",
        "    x=\"MIN_YEARS_EXPERIENCE\", \n",
        "    y=\"Average_Salary\",\n",
        "    color=\"REMOTE_GROUP\",\n",
        "    trendline=\"ols\",\n",
        "    title=\"Salary vs. Minimum Experience by Remote Type\"\n",
        ")\n",
        "fig.update_layout(template=\"plotly_white\",\n",
        "                  xaxis_title=\"Minimum Years of Experience\",\n",
        "                  yaxis_title=\"Average Salary ($)\")\n",
        "fig.show()"
      ],
      "id": "4cee58c1",
      "execution_count": null,
      "outputs": []
    },
    {
      "cell_type": "markdown",
      "metadata": {},
      "source": [
        "### Salary vs Experience\n",
        "Salary shows a positive correlation with experience, particularly for hybrid and remote roles — suggesting advanced or flexible positions are often compensated higher.\n"
      ],
      "id": "26d53f23"
    },
    {
      "cell_type": "code",
      "metadata": {},
      "source": [
        "fig = px.box(df, \n",
        "             x=\"ROLE_GROUP\", \n",
        "             y=\"Average_Salary\", \n",
        "             color=\"ROLE_GROUP\",\n",
        "             color_discrete_sequence=[\"#187145\", \"#45A274\", \"#79C99E\"],\n",
        "             title=\"Salary Comparison Across Role Categories\")\n",
        "fig.update_layout(template=\"plotly_white\", xaxis_title=\"Role Group\")\n",
        "fig.show()"
      ],
      "id": "8934cb41",
      "execution_count": null,
      "outputs": []
    },
    {
      "cell_type": "markdown",
      "metadata": {},
      "source": [
        "### Salary by Role Category (BA / DS / ML)\n",
        "Machine Learning roles exhibit the highest median salaries, followed by Data Science and Business Analytics. This validates using ROLE_GROUP as a key feature in regression modeling.\n"
      ],
      "id": "b8688ad6"
    },
    {
      "cell_type": "code",
      "metadata": {},
      "source": [
        "fig = px.choropleth(\n",
        "    df,\n",
        "    locations=\"STATE\",\n",
        "    locationmode=\"USA-states\",\n",
        "    color=\"Average_Salary\",\n",
        "    scope=\"usa\",\n",
        "    color_continuous_scale=\"Greens\",\n",
        "    title=\"Average Salary by U.S. State\"\n",
        ")\n",
        "fig.show()"
      ],
      "id": "a83ebf07",
      "execution_count": null,
      "outputs": []
    },
    {
      "cell_type": "markdown",
      "metadata": {},
      "source": [
        "### Geographic and Remote Trends\n",
        "Coastal states (CA, MA, NY) show higher average salaries — consistent with tech-industry concentration. These differences will be important for geographic feature engineering.\n"
      ],
      "id": "8f397724"
    },
    {
      "cell_type": "code",
      "metadata": {},
      "source": [
        "fig = px.box(df, x=\"REMOTE_GROUP\", y=\"Average_Salary\",\n",
        "             color=\"REMOTE_GROUP\",\n",
        "             color_discrete_sequence=[\"#45A274\", \"#79C99E\", \"#A7D9C9\"],\n",
        "             title=\"Salary Distribution by Remote Work Type\")\n",
        "fig.update_layout(template=\"plotly_white\", xaxis_title=\"Remote Type\")\n",
        "fig.show()"
      ],
      "id": "6d2a1f3c",
      "execution_count": null,
      "outputs": []
    },
    {
      "cell_type": "markdown",
      "metadata": {},
      "source": [
        "### Remote Work vs Salary Trends\n",
        "Remote roles tend to offer higher median salaries compared to onsite jobs, supporting modern hybrid compensation trends in data-driven fields.\n"
      ],
      "id": "677cc6c1"
    },
    {
      "cell_type": "code",
      "metadata": {},
      "source": [
        "from collections import Counter\n",
        "\n",
        "skills_flat = [s.strip() for sublist in df['TOP_SKILLS'].dropna().str.split(',') for s in sublist if s.strip()]\n",
        "skill_counts = pd.DataFrame(Counter(skills_flat).most_common(15), columns=['Skill', 'Count'])\n",
        "\n",
        "fig = px.bar(skill_counts, x='Skill', y='Count', \n",
        "             title=\"Most Frequent Skills in Job Postings\",\n",
        "             color_discrete_sequence=[\"#187145\"])\n",
        "fig.update_layout(template=\"plotly_white\", xaxis_title=\"Skill\", yaxis_title=\"Count\")\n",
        "fig.show()"
      ],
      "id": "a985c5e4",
      "execution_count": null,
      "outputs": []
    },
    {
      "cell_type": "markdown",
      "metadata": {},
      "source": [
        "### Top Skills Frequency\n",
        "Python, SQL, and Machine Learning dominate job descriptions, indicating their critical role in employability and forming the foundation for the modeling phase.\n"
      ],
      "id": "6980a5fd"
    },
    {
      "cell_type": "code",
      "metadata": {},
      "source": [
        "import plotly.figure_factory as ff\n",
        "\n",
        "corr = df[[\"Average_Salary\",\"MIN_YEARS_EXPERIENCE\",\"MAX_YEARS_EXPERIENCE\"]].corr()\n",
        "fig = ff.create_annotated_heatmap(\n",
        "    z=corr.values, \n",
        "    x=corr.columns.tolist(), \n",
        "    y=corr.columns.tolist(), \n",
        "    colorscale='greens', showscale=True)\n",
        "fig.update_layout(title=\"Feature Correlation Matrix\", template=\"plotly_white\")\n",
        "fig.show()"
      ],
      "id": "2d1b5ebc",
      "execution_count": null,
      "outputs": []
    },
    {
      "cell_type": "markdown",
      "metadata": {},
      "source": [
        "### Correlation Heatmap\n",
        "Salary correlates moderately with both minimum and maximum experience, confirming their inclusion in regression modeling.\n",
        "We’ll rely on additional categorical encodings (e.g., REMOTE_GROUP, ROLE_GROUP) for predictive depth."
      ],
      "id": "0864c4b8"
    }
  ],
  "metadata": {
    "kernelspec": {
      "name": "python3",
      "language": "python",
      "display_name": "Python 3 (ipykernel)"
    }
  },
  "nbformat": 4,
  "nbformat_minor": 5
}
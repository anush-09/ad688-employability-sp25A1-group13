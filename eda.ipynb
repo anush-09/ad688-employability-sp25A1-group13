{
  "cells": [
    {
      "cell_type": "raw",
      "metadata": {},
      "source": [
        "---\n",
        "title: \"Exploratory Data Analysis (EDA)\"\n",
        "subtitle: \"Visual and Statistical Insights from Job Market Data\"\n",
        "author:\n",
        "  - name: \"Anu Sharma, Cindy Guzman, Gavin Boss\"\n",
        "    affiliations:\n",
        "      - id: bu\n",
        "        name: Boston University\n",
        "        city: Boston\n",
        "        state: MA\n",
        "date: \"2025-10-09\"\n",
        "format:\n",
        "  html:\n",
        "    theme: lux\n",
        "    toc: true\n",
        "    toc-depth: 2\n",
        "    number-sections: true\n",
        "    code-fold: true\n",
        "    smooth-scroll: true\n",
        "    code-overflow: wrap\n",
        "execute:\n",
        "  echo: true\n",
        "  eval: true\n",
        "  warning: false\n",
        "  message: false\n",
        "---"
      ],
      "id": "08d8952b"
    },
    {
      "cell_type": "markdown",
      "metadata": {},
      "source": [
        "# Overview\n",
        "\n",
        "In this section, we examine job postings across Business Analytics, Data Science, and Machine Learning roles to identify key patterns before modeling. We explore salary, experience, remote work trends, and skill demand to guide the regression and classification stages.\n",
        "\n",
        "We focused on:\n",
        "- Job distribution across industries and roles  \n",
        "- Salary variation by experience and remote type  \n",
        "- Skill demand frequency and specialization  \n",
        "- Emerging data science and analytics trends\n",
        "\n",
        "\n",
        "# Load and Prepare Data"
      ],
      "id": "ab82a1fa"
    },
    {
      "cell_type": "code",
      "metadata": {},
      "source": [
        "import pandas as pd\n",
        "import plotly.express as px\n",
        "import plotly.figure_factory as ff\n",
        "from collections import Counter\n",
        "\n",
        "# Efficient load with selective columns\n",
        "usecols = [\n",
        "    \"Average_Salary\", \"MIN_YEARS_EXPERIENCE\", \"MAX_YEARS_EXPERIENCE\",\n",
        "    \"REMOTE_GROUP\", \"ROLE_GROUP\", \"STATE\", \"TOP_SKILLS\"\n",
        "]\n",
        "df = pd.read_csv(\"data/lightcast_cleaned.csv\", usecols=usecols, low_memory=False)\n",
        "\n",
        "# Downsample for memory safety on EC2\n",
        "if len(df) > 8000:\n",
        "    df = df.sample(8000, random_state=42)"
      ],
      "id": "4a810357",
      "execution_count": null,
      "outputs": []
    },
    {
      "cell_type": "code",
      "metadata": {},
      "source": [
        "fig = px.histogram(\n",
        "    df, x=\"Average_Salary\", nbins=40,\n",
        "    color_discrete_sequence=[\"#187145\"],\n",
        "    title=\"Distribution of Average Salaries\"\n",
        ")\n",
        "fig.update_layout(\n",
        "    xaxis_title=\"Average Salary ($)\",\n",
        "    yaxis_title=\"Number of Job Postings\",\n",
        "    template=\"plotly_white\"\n",
        ")\n",
        "fig"
      ],
      "id": "dfee6d70",
      "execution_count": null,
      "outputs": []
    },
    {
      "cell_type": "markdown",
      "metadata": {},
      "source": [
        "### Salary Distribution and Outliers\n",
        "Salaries are right-skewed — most roles pay under $150K, but select senior and ML-focused positions exceed $200K, highlighting outlier opportunities for experienced professionals.\n"
      ],
      "id": "d31f8944"
    },
    {
      "cell_type": "code",
      "metadata": {},
      "source": [
        "fig = px.scatter(\n",
        "    df,\n",
        "    x=\"MIN_YEARS_EXPERIENCE\",\n",
        "    y=\"Average_Salary\",\n",
        "    color=\"REMOTE_GROUP\",\n",
        "    trendline=\"ols\",\n",
        "    title=\"Salary vs. Minimum Experience by Remote Type\",\n",
        "    height=500\n",
        ")\n",
        "fig.update_layout(template=\"plotly_white\")\n",
        "fig"
      ],
      "id": "c8f1d544",
      "execution_count": null,
      "outputs": []
    },
    {
      "cell_type": "markdown",
      "metadata": {},
      "source": [
        "### Salary vs Experience\n",
        "Salary shows a positive correlation with experience, particularly for hybrid and remote roles — suggesting advanced or flexible positions are often compensated higher.\n"
      ],
      "id": "9098a8fc"
    },
    {
      "cell_type": "code",
      "metadata": {},
      "source": [
        "fig = px.box(\n",
        "    df,\n",
        "    x=\"ROLE_GROUP\",\n",
        "    y=\"Average_Salary\",\n",
        "    color=\"ROLE_GROUP\",\n",
        "    color_discrete_sequence=[\"#187145\", \"#45A274\", \"#79C99E\"],\n",
        "    title=\"Salary Comparison Across Role Categories\"\n",
        ")\n",
        "fig.update_layout(template=\"plotly_white\")\n",
        "fig"
      ],
      "id": "7aef1576",
      "execution_count": null,
      "outputs": []
    },
    {
      "cell_type": "markdown",
      "metadata": {},
      "source": [
        "### Salary by Role Category (BA / DS / ML)\n",
        "Machine Learning roles exhibit the highest median salaries, followed by Data Science and Business Analytics. This validates using ROLE_GROUP as a key feature in regression modeling.\n"
      ],
      "id": "dae304b6"
    },
    {
      "cell_type": "code",
      "metadata": {},
      "source": [
        "if df[\"STATE\"].notna().sum() > 0:\n",
        "    fig = px.choropleth(\n",
        "        df,\n",
        "        locations=\"STATE\",\n",
        "        locationmode=\"USA-states\",\n",
        "        color=\"Average_Salary\",\n",
        "        scope=\"usa\",\n",
        "        color_continuous_scale=\"Greens\",\n",
        "        title=\"Average Salary by U.S. State\"\n",
        "    )\n",
        "    fig\n",
        "else:\n",
        "    print(\"State data not available — skipping map.\")"
      ],
      "id": "67c9a8b7",
      "execution_count": null,
      "outputs": []
    },
    {
      "cell_type": "markdown",
      "metadata": {},
      "source": [
        "### Geographic and Remote Trends\n",
        "Coastal states (CA, MA, NY) show higher average salaries — consistent with tech-industry concentration. These differences will be important for geographic feature engineering.\n"
      ],
      "id": "534f51ca"
    },
    {
      "cell_type": "code",
      "metadata": {},
      "source": [
        "fig = px.box(\n",
        "    df,\n",
        "    x=\"REMOTE_GROUP\",\n",
        "    y=\"Average_Salary\",\n",
        "    color=\"REMOTE_GROUP\",\n",
        "    color_discrete_sequence=[\"#45A274\", \"#79C99E\", \"#A7D9C9\"],\n",
        "    title=\"Salary Distribution by Remote Work Type\"\n",
        ")\n",
        "fig.update_layout(template=\"plotly_white\")\n",
        "fig"
      ],
      "id": "1d6c9690",
      "execution_count": null,
      "outputs": []
    },
    {
      "cell_type": "markdown",
      "metadata": {},
      "source": [
        "### Remote Work vs Salary Trends\n",
        "Remote roles tend to offer higher median salaries compared to onsite jobs, supporting modern hybrid compensation trends in data-driven fields.\n"
      ],
      "id": "528a9ac4"
    },
    {
      "cell_type": "code",
      "metadata": {},
      "source": [
        "skills_flat = [\n",
        "    s.strip()\n",
        "    for sublist in df['TOP_SKILLS'].dropna().str.split(',')\n",
        "    for s in sublist if s.strip()\n",
        "]\n",
        "skill_counts = pd.DataFrame(\n",
        "    Counter(skills_flat).most_common(15),\n",
        "    columns=['Skill', 'Count']\n",
        ")\n",
        "\n",
        "fig = px.bar(\n",
        "    skill_counts,\n",
        "    x='Skill',\n",
        "    y='Count',\n",
        "    title=\"Most Frequent Skills in Job Postings\",\n",
        "    color_discrete_sequence=[\"#187145\"]\n",
        ")\n",
        "fig.update_layout(template=\"plotly_white\")\n",
        "fig"
      ],
      "id": "2a599116",
      "execution_count": null,
      "outputs": []
    },
    {
      "cell_type": "markdown",
      "metadata": {},
      "source": [
        "### Top Skills Frequency\n",
        "Python, SQL, and Machine Learning dominate job descriptions, indicating their critical role in employability and forming the foundation for the modeling phase.\n"
      ],
      "id": "aef5c09a"
    },
    {
      "cell_type": "code",
      "metadata": {},
      "source": [
        "corr_cols = [\"Average_Salary\", \"MIN_YEARS_EXPERIENCE\", \"MAX_YEARS_EXPERIENCE\"]\n",
        "corr = df[corr_cols].corr().round(2)\n",
        "\n",
        "fig = ff.create_annotated_heatmap(\n",
        "    z=corr.values,\n",
        "    x=corr.columns.tolist(),\n",
        "    y=corr.columns.tolist(),\n",
        "    colorscale='greens',\n",
        "    showscale=True\n",
        ")\n",
        "fig.update_layout(title=\"Feature Correlation Matrix\", template=\"plotly_white\", height=450)\n",
        "fig"
      ],
      "id": "9d80616a",
      "execution_count": null,
      "outputs": []
    },
    {
      "cell_type": "markdown",
      "metadata": {},
      "source": [
        "### Correlation Heatmap\n",
        "Salary correlates moderately with both minimum and maximum experience, confirming their inclusion in regression modeling.\n",
        "We’ll rely on additional categorical encodings (e.g., REMOTE_GROUP, ROLE_GROUP) for predictive depth."
      ],
      "id": "6610b5e1"
    }
  ],
  "metadata": {
    "kernelspec": {
      "name": "python3",
      "language": "python",
      "display_name": "Python 3 (ipykernel)"
    }
  },
  "nbformat": 4,
  "nbformat_minor": 5
}
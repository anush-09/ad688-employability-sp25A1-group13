{
  "cells": [
    {
      "cell_type": "raw",
      "metadata": {},
      "source": [
        "---\n",
        "title: \"Exploratory Data Analysis (EDA)\"\n",
        "subtitle: \"Visual and Statistical Insights from Job Market Data\"\n",
        "author:\n",
        "  - name: \"Anu Sharma, Cindy Guzman, Gavin Boss\"\n",
        "    affiliations:\n",
        "      - id: bu\n",
        "        name: Boston University\n",
        "        city: Boston\n",
        "        state: MA\n",
        "date: \"2025-10-09\"\n",
        "format:\n",
        "  html:\n",
        "    theme: lux\n",
        "    toc: true\n",
        "    toc-depth: 2\n",
        "    number-sections: true\n",
        "    code-fold: true\n",
        "    smooth-scroll: true\n",
        "    code-overflow: wrap\n",
        "execute:\n",
        "  echo: true\n",
        "  eval: true\n",
        "  warning: false\n",
        "  message: false\n",
        "---"
      ],
      "id": "91e93ad0"
    },
    {
      "cell_type": "markdown",
      "metadata": {},
      "source": [
        "# Overview\n",
        "\n",
        "In this section, we examine job postings across Business Analytics, Data Science, and Machine Learning roles to identify key patterns before modeling. We explore salary, experience, remote work trends, and skill demand to guide the regression and classification stages.\n",
        "\n",
        "We focused on:\n",
        "- Job distribution across industries and roles  \n",
        "- Salary variation by experience and remote type  \n",
        "- Skill demand frequency and specialization  \n",
        "- Emerging data science and analytics trends\n",
        "\n",
        "\n",
        "# Load and Prepare Data"
      ],
      "id": "98068458"
    },
    {
      "cell_type": "code",
      "metadata": {},
      "source": [
        "import pandas as pd\n",
        "import plotly.express as px\n",
        "import numpy as np\n",
        "\n",
        "# === Minimal safe load ===\n",
        "cols_needed = [\n",
        "    \"SALARY_FROM\", \"SALARY_TO\",\n",
        "    \"MIN_YEARS_EXPERIENCE\", \"MAX_YEARS_EXPERIENCE\",\n",
        "    \"REMOTE_TYPE_NAME\", \"STATE_NAME\",\n",
        "    \"LOT_V6_OCCUPATION_GROUP_NAME\"\n",
        "]\n",
        "\n",
        "# Load only needed columns, small sample for EC2\n",
        "df = pd.read_csv(\n",
        "    \"data/lightcast_cleaned.csv\",\n",
        "    usecols=lambda c: c in cols_needed,\n",
        "    nrows=8000,\n",
        "    low_memory=False\n",
        ")\n",
        "\n",
        "# --- Convert numeric columns safely ---\n",
        "for col in [\"SALARY_FROM\", \"SALARY_TO\", \"MIN_YEARS_EXPERIENCE\", \"MAX_YEARS_EXPERIENCE\"]:\n",
        "    df[col] = pd.to_numeric(df[col], errors=\"coerce\")\n",
        "\n",
        "# --- Compute average salary (avoid string concat) ---\n",
        "df[\"Average_Salary\"] = df[[\"SALARY_FROM\", \"SALARY_TO\"]].mean(axis=1, skipna=True)\n",
        "\n",
        "# --- Clean and rename ---\n",
        "df.rename(columns={\n",
        "    \"REMOTE_TYPE_NAME\": \"REMOTE_GROUP\",\n",
        "    \"STATE_NAME\": \"STATE\",\n",
        "    \"LOT_V6_OCCUPATION_GROUP_NAME\": \"ROLE_GROUP\"\n",
        "}, inplace=True)\n",
        "\n",
        "# --- Drop invalid rows early ---\n",
        "df = df[df[\"Average_Salary\"].notna() & (df[\"Average_Salary\"] > 0)]\n",
        "\n",
        "# --- Downsample further if needed ---\n",
        "if len(df) > 5000:\n",
        "    df = df.sample(5000, random_state=42)\n",
        "\n",
        "print(f\"✅ Loaded {len(df)} rows safely with columns: {list(df.columns)}\")\n",
        "\n",
        "# Optional lightweight check\n",
        "fig = px.histogram(df, x=\"Average_Salary\", nbins=25,\n",
        "                   color_discrete_sequence=[\"#187145\"],\n",
        "                   title=\"Average Salary Distribution (sample)\")\n",
        "fig.update_layout(template=\"plotly_white\")\n",
        "fig"
      ],
      "id": "0dcbe19b",
      "execution_count": null,
      "outputs": []
    },
    {
      "cell_type": "code",
      "metadata": {},
      "source": [
        "fig = px.histogram(\n",
        "    df, x=\"Average_Salary\", nbins=40,\n",
        "    color_discrete_sequence=[\"#187145\"],\n",
        "    title=\"Distribution of Average Salaries\"\n",
        ")\n",
        "fig.update_layout(\n",
        "    xaxis_title=\"Average Salary ($)\",\n",
        "    yaxis_title=\"Number of Job Postings\",\n",
        "    template=\"plotly_white\"\n",
        ")\n",
        "fig"
      ],
      "id": "a623a75d",
      "execution_count": null,
      "outputs": []
    },
    {
      "cell_type": "markdown",
      "metadata": {},
      "source": [
        "### Salary Distribution and Outliers\n",
        "Salaries are right-skewed — most roles pay under $150K, but select senior and ML-focused positions exceed $200K, highlighting outlier opportunities for experienced professionals.\n"
      ],
      "id": "3b5de3fc"
    },
    {
      "cell_type": "code",
      "metadata": {},
      "source": [
        "fig = px.scatter(\n",
        "    df,\n",
        "    x=\"MIN_YEARS_EXPERIENCE\",\n",
        "    y=\"Average_Salary\",\n",
        "    color=\"REMOTE_GROUP\",\n",
        "    trendline=\"ols\",\n",
        "    title=\"Salary vs. Minimum Experience by Remote Type\",\n",
        "    height=500\n",
        ")\n",
        "fig.update_layout(template=\"plotly_white\")\n",
        "fig"
      ],
      "id": "4f4c4fe3",
      "execution_count": null,
      "outputs": []
    },
    {
      "cell_type": "markdown",
      "metadata": {},
      "source": [
        "### Salary vs Experience\n",
        "Salary shows a positive correlation with experience, particularly for hybrid and remote roles — suggesting advanced or flexible positions are often compensated higher.\n"
      ],
      "id": "0d1d3aea"
    },
    {
      "cell_type": "code",
      "metadata": {},
      "source": [
        "fig = px.box(\n",
        "    df,\n",
        "    x=\"ROLE_GROUP\",\n",
        "    y=\"Average_Salary\",\n",
        "    color=\"ROLE_GROUP\",\n",
        "    color_discrete_sequence=[\"#187145\", \"#45A274\", \"#79C99E\"],\n",
        "    title=\"Salary Comparison Across Role Categories\"\n",
        ")\n",
        "fig.update_layout(template=\"plotly_white\")\n",
        "fig"
      ],
      "id": "99d22052",
      "execution_count": null,
      "outputs": []
    },
    {
      "cell_type": "markdown",
      "metadata": {},
      "source": [
        "### Salary by Role Category (BA / DS / ML)\n",
        "Machine Learning roles exhibit the highest median salaries, followed by Data Science and Business Analytics. This validates using ROLE_GROUP as a key feature in regression modeling.\n"
      ],
      "id": "85b67e9e"
    },
    {
      "cell_type": "code",
      "metadata": {},
      "source": [
        "fig = px.box(\n",
        "    df,\n",
        "    x=\"REMOTE_GROUP\",\n",
        "    y=\"Average_Salary\",\n",
        "    color=\"REMOTE_GROUP\",\n",
        "    color_discrete_sequence=[\"#45A274\", \"#79C99E\", \"#A7D9C9\"],\n",
        "    title=\"Salary Distribution by Remote Work Type\"\n",
        ")\n",
        "fig.update_layout(template=\"plotly_white\")\n",
        "fig"
      ],
      "id": "1e7e3b79",
      "execution_count": null,
      "outputs": []
    },
    {
      "cell_type": "markdown",
      "metadata": {},
      "source": [
        "### Remote Work vs Salary Trends\n",
        "Remote roles tend to offer higher median salaries compared to onsite jobs, supporting modern hybrid compensation trends in data-driven fields.\n"
      ],
      "id": "69755767"
    },
    {
      "cell_type": "code",
      "metadata": {},
      "source": [
        "skills_flat = [\n",
        "    s.strip()\n",
        "    for sublist in df['TOP_SKILLS'].dropna().str.split(',')\n",
        "    for s in sublist if s.strip()\n",
        "]\n",
        "skill_counts = pd.DataFrame(\n",
        "    Counter(skills_flat).most_common(15),\n",
        "    columns=['Skill', 'Count']\n",
        ")\n",
        "\n",
        "fig = px.bar(\n",
        "    skill_counts,\n",
        "    x='Skill',\n",
        "    y='Count',\n",
        "    title=\"Most Frequent Skills in Job Postings\",\n",
        "    color_discrete_sequence=[\"#187145\"]\n",
        ")\n",
        "fig.update_layout(template=\"plotly_white\")\n",
        "fig"
      ],
      "id": "c9105825",
      "execution_count": null,
      "outputs": []
    },
    {
      "cell_type": "markdown",
      "metadata": {},
      "source": [
        "### Top Skills Frequency\n",
        "Python, SQL, and Machine Learning dominate job descriptions, indicating their critical role in employability and forming the foundation for the modeling phase.\n"
      ],
      "id": "1108c5ad"
    },
    {
      "cell_type": "code",
      "metadata": {},
      "source": [
        "corr_cols = [\"Average_Salary\", \"MIN_YEARS_EXPERIENCE\", \"MAX_YEARS_EXPERIENCE\"]\n",
        "corr = df[corr_cols].corr().round(2)\n",
        "\n",
        "fig = ff.create_annotated_heatmap(\n",
        "    z=corr.values,\n",
        "    x=corr.columns.tolist(),\n",
        "    y=corr.columns.tolist(),\n",
        "    colorscale='greens',\n",
        "    showscale=True\n",
        ")\n",
        "fig.update_layout(title=\"Feature Correlation Matrix\", template=\"plotly_white\", height=450)\n",
        "fig"
      ],
      "id": "6e216b48",
      "execution_count": null,
      "outputs": []
    },
    {
      "cell_type": "markdown",
      "metadata": {},
      "source": [
        "### Correlation Heatmap\n",
        "Salary correlates moderately with both minimum and maximum experience, confirming their inclusion in regression modeling.\n",
        "We’ll rely on additional categorical encodings (e.g., REMOTE_GROUP, ROLE_GROUP) for predictive depth."
      ],
      "id": "6547b221"
    }
  ],
  "metadata": {
    "kernelspec": {
      "name": "python3",
      "language": "python",
      "display_name": "Python 3 (ipykernel)"
    }
  },
  "nbformat": 4,
  "nbformat_minor": 5
}